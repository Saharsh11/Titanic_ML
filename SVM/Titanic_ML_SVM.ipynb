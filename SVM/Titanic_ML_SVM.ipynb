{
  "nbformat": 4,
  "nbformat_minor": 0,
  "metadata": {
    "colab": {
      "name": "Titanic_ML_SVM.ipynb",
      "provenance": [],
      "collapsed_sections": []
    },
    "kernelspec": {
      "name": "python3",
      "display_name": "Python 3"
    },
    "accelerator": "TPU"
  },
  "cells": [
    {
      "cell_type": "markdown",
      "metadata": {
        "id": "mlcCXYH4hvG_",
        "colab_type": "text"
      },
      "source": [
        "Now using SVM for titanic dataset"
      ]
    },
    {
      "cell_type": "code",
      "metadata": {
        "id": "fSZ13lMihuv5",
        "colab_type": "code",
        "colab": {}
      },
      "source": [
        "from sklearn.svm import SVC"
      ],
      "execution_count": null,
      "outputs": []
    },
    {
      "cell_type": "code",
      "metadata": {
        "id": "X7Et9DeFh-Wv",
        "colab_type": "code",
        "colab": {
          "base_uri": "https://localhost:8080/",
          "height": 85
        },
        "outputId": "470b665c-bb44-4e43-e7fa-1aae8fc7b9f7"
      },
      "source": [
        "SVC()"
      ],
      "execution_count": null,
      "outputs": [
        {
          "output_type": "execute_result",
          "data": {
            "text/plain": [
              "SVC(C=1.0, break_ties=False, cache_size=200, class_weight=None, coef0=0.0,\n",
              "    decision_function_shape='ovr', degree=3, gamma='scale', kernel='rbf',\n",
              "    max_iter=-1, probability=False, random_state=None, shrinking=True,\n",
              "    tol=0.001, verbose=False)"
            ]
          },
          "metadata": {
            "tags": []
          },
          "execution_count": 2
        }
      ]
    },
    {
      "cell_type": "code",
      "metadata": {
        "id": "9SZrgTGN7rn-",
        "colab_type": "code",
        "colab": {}
      },
      "source": [
        "import pandas as pd\n",
        "import joblib\n",
        "from sklearn.model_selection import GridSearchCV\n",
        "from sklearn.svm import SVC\n",
        "\n",
        "import warnings\n",
        "warnings.filterwarnings('ignore', category = FutureWarning)\n",
        "warnings.filterwarnings('ignore', category = DeprecationWarning)\n"
      ],
      "execution_count": 9,
      "outputs": []
    },
    {
      "cell_type": "code",
      "metadata": {
        "id": "-kHBSooWJc-l",
        "colab_type": "code",
        "colab": {}
      },
      "source": [
        "feature = pd.read_csv('./Titanic_x_train.csv')\n",
        "label = pd.read_csv('./Titanic_y_train.csv',header = None)"
      ],
      "execution_count": 10,
      "outputs": []
    },
    {
      "cell_type": "code",
      "metadata": {
        "id": "8j3t6o7iFwoc",
        "colab_type": "code",
        "colab": {}
      },
      "source": [
        "label.head()"
      ],
      "execution_count": null,
      "outputs": []
    },
    {
      "cell_type": "code",
      "metadata": {
        "id": "9vneh7bpKMWP",
        "colab_type": "code",
        "colab": {}
      },
      "source": [
        "def ML_results(results):\n",
        "\n",
        "  mean = results.cv_results_['mean_test_score']\n",
        "  std = results.cv_results_['std_test_score']\n",
        "  for mean, std, params in zip(mean, std, results.cv_results_['params']):\n",
        "    print('mean: ',round(mean,3),' std: ',round(std * 2,3),' for ',format(params))\n",
        "  print('\\n Final parameter decided: ',format(results.best_params_))"
      ],
      "execution_count": 12,
      "outputs": []
    },
    {
      "cell_type": "code",
      "metadata": {
        "id": "_MYo0z-gu5e7",
        "colab_type": "code",
        "colab": {}
      },
      "source": [
        "svc = SVC()\n",
        "parameter = {\n",
        "    'kernel' : ['linear','rbf'],\n",
        "    'C' : [1,100,1000,5000]\n",
        "}"
      ],
      "execution_count": 15,
      "outputs": []
    },
    {
      "cell_type": "code",
      "metadata": {
        "id": "ToOTztm4vyXK",
        "colab_type": "code",
        "colab": {
          "base_uri": "https://localhost:8080/",
          "height": 187
        },
        "outputId": "4e1f1bf4-2f93-4b44-eee0-45a52f1b9568"
      },
      "source": [
        "cv = GridSearchCV(svc, parameter, cv =5)\n",
        "cv.fit(feature,label.values.ravel())\n",
        "ML_results(cv)"
      ],
      "execution_count": 16,
      "outputs": [
        {
          "output_type": "stream",
          "text": [
            "mean:  0.785  std:  0.105  for  {'C': 1, 'kernel': 'linear'}\n",
            "mean:  0.67  std:  0.025  for  {'C': 1, 'kernel': 'rbf'}\n",
            "mean:  0.788  std:  0.11  for  {'C': 100, 'kernel': 'linear'}\n",
            "mean:  0.783  std:  0.085  for  {'C': 100, 'kernel': 'rbf'}\n",
            "mean:  0.794  std:  0.081  for  {'C': 1000, 'kernel': 'linear'}\n",
            "mean:  0.788  std:  0.096  for  {'C': 1000, 'kernel': 'rbf'}\n",
            "mean:  0.787  std:  0.08  for  {'C': 5000, 'kernel': 'linear'}\n",
            "mean:  0.783  std:  0.092  for  {'C': 5000, 'kernel': 'rbf'}\n",
            "\n",
            " Final parameter decided:  {'C': 1000, 'kernel': 'linear'}\n"
          ],
          "name": "stdout"
        }
      ]
    },
    {
      "cell_type": "code",
      "metadata": {
        "id": "CE1ZQbh3ZWWb",
        "colab_type": "code",
        "colab": {
          "base_uri": "https://localhost:8080/",
          "height": 34
        },
        "outputId": "daea612c-307a-44c2-eef3-abb8a888af32"
      },
      "source": [
        "joblib.dump(cv.best_estimator_,'././SVM_model.pkl')"
      ],
      "execution_count": 17,
      "outputs": [
        {
          "output_type": "execute_result",
          "data": {
            "text/plain": [
              "['././SVM_model.pkl']"
            ]
          },
          "metadata": {
            "tags": []
          },
          "execution_count": 17
        }
      ]
    }
  ]
}