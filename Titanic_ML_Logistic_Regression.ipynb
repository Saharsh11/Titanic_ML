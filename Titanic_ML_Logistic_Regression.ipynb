{
  "nbformat": 4,
  "nbformat_minor": 0,
  "metadata": {
    "colab": {
      "name": "Titanic_ML_Logistic Regression.ipynb",
      "provenance": [],
      "collapsed_sections": [],
      "authorship_tag": "ABX9TyPuSHj/A5xMaywBqXNokZQG",
      "include_colab_link": true
    },
    "kernelspec": {
      "name": "python3",
      "display_name": "Python 3"
    }
  },
  "cells": [
    {
      "cell_type": "markdown",
      "metadata": {
        "id": "view-in-github",
        "colab_type": "text"
      },
      "source": [
        "<a href=\"https://colab.research.google.com/github/Saharsh11/Titanic_ML/blob/master/Titanic_ML_Logistic_Regression.ipynb\" target=\"_parent\"><img src=\"https://colab.research.google.com/assets/colab-badge.svg\" alt=\"Open In Colab\"/></a>"
      ]
    },
    {
      "cell_type": "markdown",
      "metadata": {
        "id": "2QNqTw7k5Lw4",
        "colab_type": "text"
      },
      "source": [
        "Going to use logistic regression for the prediction of survivors values."
      ]
    },
    {
      "cell_type": "code",
      "metadata": {
        "id": "uPvRj5pgQKpx",
        "colab_type": "code",
        "colab": {}
      },
      "source": [
        "import joblib #Joblib is used so that we can compare all predictions done by different models on dataset\n",
        "import pandas as pd\n",
        "from sklearn.linear_model import LogisticRegression\n",
        "from sklearn.model_selection import GridSearchCV\n",
        "import warnings\n",
        "warnings.filterwarnings('ignore', category = FutureWarning)\n",
        "warnings.filterwarnings('ignore', category = DeprecationWarning)\n",
        "\n",
        "tr_features = pd.read_csv('Titanic_x_train.csv')\n",
        "tr_lebals = pd.read_csv('Titanic_y_train.csv')\n"
      ],
      "execution_count": 40,
      "outputs": []
    },
    {
      "cell_type": "code",
      "metadata": {
        "id": "zxYwi29PEoR3",
        "colab_type": "code",
        "colab": {
          "base_uri": "https://localhost:8080/",
          "height": 102
        },
        "outputId": "9974228f-6de8-4a35-ef07-a23a1e84ce91"
      },
      "source": [
        "LogisticRegression()"
      ],
      "execution_count": 19,
      "outputs": [
        {
          "output_type": "execute_result",
          "data": {
            "text/plain": [
              "LogisticRegression(C=1.0, class_weight=None, dual=False, fit_intercept=True,\n",
              "                   intercept_scaling=1, l1_ratio=None, max_iter=100,\n",
              "                   multi_class='auto', n_jobs=None, penalty='l2',\n",
              "                   random_state=None, solver='lbfgs', tol=0.0001, verbose=0,\n",
              "                   warm_start=False)"
            ]
          },
          "metadata": {
            "tags": []
          },
          "execution_count": 19
        }
      ]
    },
    {
      "cell_type": "code",
      "metadata": {
        "id": "Y202i6VwJiqu",
        "colab_type": "code",
        "colab": {}
      },
      "source": [
        "def ML_results(results):\n",
        "\n",
        "  mean = results.cv_results_['mean_test_score']\n",
        "  std = results.cv_results_['std_test_score']\n",
        "  for mean, std, params in zip(mean, std, results.cv_results_['params']):\n",
        "    print('mean: ',round(mean,3),' std: ',round(std * 2,3),' for ',format(params))\n",
        "  print('\\n Final parameter decided: ',format(results.best_params_))"
      ],
      "execution_count": 55,
      "outputs": []
    },
    {
      "cell_type": "code",
      "metadata": {
        "id": "2OVPbYBRBqnN",
        "colab_type": "code",
        "colab": {
          "base_uri": "https://localhost:8080/",
          "height": 187
        },
        "outputId": "b8c0ddf6-4b4e-4136-91b2-aafccb5f6e32"
      },
      "source": [
        "lr = LogisticRegression()\n",
        "parameter= {\n",
        "    'C' : [0.0001, 0.001, 0.1, 1, 10, 100, 1000, 500], \n",
        "}\n",
        "\n",
        "cv = GridSearchCV(lr, parameter, cv = 10)\n",
        "cv.fit(tr_features,tr_lebals.values.ravel()) #.values.ravel() is used to convert the vector type data to array type very easily.\n",
        "ML_results(cv)"
      ],
      "execution_count": 56,
      "outputs": [
        {
          "output_type": "stream",
          "text": [
            "mean:  0.667  std:  0.104  for  {'C': 0.0001}\n",
            "mean:  0.67  std:  0.095  for  {'C': 0.001}\n",
            "mean:  0.784  std:  0.099  for  {'C': 0.1}\n",
            "mean:  0.801  std:  0.09  for  {'C': 1}\n",
            "mean:  0.799  std:  0.088  for  {'C': 10}\n",
            "mean:  0.799  std:  0.088  for  {'C': 100}\n",
            "mean:  0.799  std:  0.088  for  {'C': 1000}\n",
            "mean:  0.799  std:  0.088  for  {'C': 500}\n",
            "\n",
            " Final parameter decided:  {'C': 1}\n"
          ],
          "name": "stdout"
        }
      ]
    },
    {
      "cell_type": "markdown",
      "metadata": {
        "id": "cLIxKM1zQgBA",
        "colab_type": "text"
      },
      "source": [
        "Now we have defined the C value for logistic regression to predict we will save the model so that we can re-use it at the end of the course and compare predicitons by different models."
      ]
    },
    {
      "cell_type": "code",
      "metadata": {
        "id": "Lt5CIeSrOlda",
        "colab_type": "code",
        "colab": {
          "base_uri": "https://localhost:8080/",
          "height": 34
        },
        "outputId": "5b72f92d-dd8d-457c-99d8-cfd225a33362"
      },
      "source": [
        "joblib.dump(cv.best_estimator_,'../../../LR_model.pkl')"
      ],
      "execution_count": 57,
      "outputs": [
        {
          "output_type": "execute_result",
          "data": {
            "text/plain": [
              "['../../../LR_model.pkl']"
            ]
          },
          "metadata": {
            "tags": []
          },
          "execution_count": 57
        }
      ]
    }
  ]
}