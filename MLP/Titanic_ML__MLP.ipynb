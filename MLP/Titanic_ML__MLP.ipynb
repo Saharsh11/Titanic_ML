{
  "nbformat": 4,
  "nbformat_minor": 0,
  "metadata": {
    "colab": {
      "name": "Titanic_ML_ MLP.ipynb",
      "provenance": []
    },
    "kernelspec": {
      "name": "python3",
      "display_name": "Python 3"
    },
    "accelerator": "TPU"
  },
  "cells": [
    {
      "cell_type": "code",
      "metadata": {
        "id": "fz9ntk7AFkYO",
        "colab_type": "code",
        "colab": {
          "base_uri": "https://localhost:8080/",
          "height": 289
        },
        "outputId": "69979233-049f-4e11-92af-e5b19519be87"
      },
      "source": [
        "from sklearn.neural_network import MLPClassifier, MLPRegressor\n",
        "\n",
        "print(MLPRegressor())\n",
        "print(MLPClassifier())"
      ],
      "execution_count": 8,
      "outputs": [
        {
          "output_type": "stream",
          "text": [
            "MLPRegressor(activation='relu', alpha=0.0001, batch_size='auto', beta_1=0.9,\n",
            "             beta_2=0.999, early_stopping=False, epsilon=1e-08,\n",
            "             hidden_layer_sizes=(100,), learning_rate='constant',\n",
            "             learning_rate_init=0.001, max_fun=15000, max_iter=200,\n",
            "             momentum=0.9, n_iter_no_change=10, nesterovs_momentum=True,\n",
            "             power_t=0.5, random_state=None, shuffle=True, solver='adam',\n",
            "             tol=0.0001, validation_fraction=0.1, verbose=False,\n",
            "             warm_start=False)\n",
            "MLPClassifier(activation='relu', alpha=0.0001, batch_size='auto', beta_1=0.9,\n",
            "              beta_2=0.999, early_stopping=False, epsilon=1e-08,\n",
            "              hidden_layer_sizes=(100,), learning_rate='constant',\n",
            "              learning_rate_init=0.001, max_fun=15000, max_iter=200,\n",
            "              momentum=0.9, n_iter_no_change=10, nesterovs_momentum=True,\n",
            "              power_t=0.5, random_state=None, shuffle=True, solver='adam',\n",
            "              tol=0.0001, validation_fraction=0.1, verbose=False,\n",
            "              warm_start=False)\n"
          ],
          "name": "stdout"
        }
      ]
    },
    {
      "cell_type": "code",
      "metadata": {
        "id": "Dv-_K7tvaiZv",
        "colab_type": "code",
        "colab": {}
      },
      "source": [
        "import joblib\n",
        "import pandas as pd\n",
        "from sklearn.model_selection import GridSearchCV\n",
        "from sklearn.neural_network import MLPClassifier, MLPRegressor\n",
        "\n",
        "import warnings\n",
        "warnings.filterwarnings('ignore', category = FutureWarning)\n",
        "warnings.filterwarnings('ignore', category=DeprecationWarning)\n",
        "\n",
        "feature = pd.read_csv('./Titanic_x_train.csv')\n",
        "label = pd.read_csv('./Titanic_y_train.csv', header=None)"
      ],
      "execution_count": 2,
      "outputs": []
    },
    {
      "cell_type": "code",
      "metadata": {
        "id": "HRap9aBDb_ru",
        "colab_type": "code",
        "colab": {}
      },
      "source": [
        "def ML_results(results):\n",
        "\n",
        "  mean = results.cv_results_['mean_test_score']\n",
        "  std = results.cv_results_['std_test_score']\n",
        "  for mean, std, params in zip(mean, std, results.cv_results_['params']):\n",
        "    print('mean: ',round(mean,3),' std: ',round(std * 2,3),' for ',format(params))\n",
        "  print('\\n Final parameter decided: ',format(results.best_params_))"
      ],
      "execution_count": 3,
      "outputs": []
    },
    {
      "cell_type": "code",
      "metadata": {
        "id": "oBg68g4guSG3",
        "colab_type": "code",
        "colab": {
          "base_uri": "https://localhost:8080/",
          "height": 204
        },
        "outputId": "6cc0f5a6-9fc1-42bf-f7e2-e940b2e66aba"
      },
      "source": [
        "label.head()"
      ],
      "execution_count": 4,
      "outputs": [
        {
          "output_type": "execute_result",
          "data": {
            "text/html": [
              "<div>\n",
              "<style scoped>\n",
              "    .dataframe tbody tr th:only-of-type {\n",
              "        vertical-align: middle;\n",
              "    }\n",
              "\n",
              "    .dataframe tbody tr th {\n",
              "        vertical-align: top;\n",
              "    }\n",
              "\n",
              "    .dataframe thead th {\n",
              "        text-align: right;\n",
              "    }\n",
              "</style>\n",
              "<table border=\"1\" class=\"dataframe\">\n",
              "  <thead>\n",
              "    <tr style=\"text-align: right;\">\n",
              "      <th></th>\n",
              "      <th>0</th>\n",
              "    </tr>\n",
              "  </thead>\n",
              "  <tbody>\n",
              "    <tr>\n",
              "      <th>0</th>\n",
              "      <td>0</td>\n",
              "    </tr>\n",
              "    <tr>\n",
              "      <th>1</th>\n",
              "      <td>1</td>\n",
              "    </tr>\n",
              "    <tr>\n",
              "      <th>2</th>\n",
              "      <td>0</td>\n",
              "    </tr>\n",
              "    <tr>\n",
              "      <th>3</th>\n",
              "      <td>0</td>\n",
              "    </tr>\n",
              "    <tr>\n",
              "      <th>4</th>\n",
              "      <td>0</td>\n",
              "    </tr>\n",
              "  </tbody>\n",
              "</table>\n",
              "</div>"
            ],
            "text/plain": [
              "   0\n",
              "0  0\n",
              "1  1\n",
              "2  0\n",
              "3  0\n",
              "4  0"
            ]
          },
          "metadata": {
            "tags": []
          },
          "execution_count": 4
        }
      ]
    },
    {
      "cell_type": "code",
      "metadata": {
        "id": "VXpSu6JJurwF",
        "colab_type": "code",
        "colab": {
          "base_uri": "https://localhost:8080/",
          "height": 663
        },
        "outputId": "ff68d234-a11e-4c44-a68e-83a5737e7fba"
      },
      "source": [
        "mlp = MLPClassifier(max_iter=1000)\n",
        "parameters = {\n",
        "    'activation' : ['relu','tanh','logistic'],\n",
        "    'hidden_layer_sizes' : [(10,), (50,), (100,), (75,)],\n",
        "    'learning_rate' : ['constant','invscaling','adaptive']\n",
        "}\n",
        "cv = GridSearchCV(mlp, parameters, cv=5)\n",
        "cv.fit(feature,label.values.ravel())\n",
        "ML_results(cv)"
      ],
      "execution_count": 6,
      "outputs": [
        {
          "output_type": "stream",
          "text": [
            "mean:  0.753  std:  0.094  for  {'activation': 'relu', 'hidden_layer_sizes': (10,), 'learning_rate': 'constant'}\n",
            "mean:  0.809  std:  0.075  for  {'activation': 'relu', 'hidden_layer_sizes': (10,), 'learning_rate': 'invscaling'}\n",
            "mean:  0.801  std:  0.071  for  {'activation': 'relu', 'hidden_layer_sizes': (10,), 'learning_rate': 'adaptive'}\n",
            "mean:  0.805  std:  0.09  for  {'activation': 'relu', 'hidden_layer_sizes': (50,), 'learning_rate': 'constant'}\n",
            "mean:  0.805  std:  0.073  for  {'activation': 'relu', 'hidden_layer_sizes': (50,), 'learning_rate': 'invscaling'}\n",
            "mean:  0.798  std:  0.095  for  {'activation': 'relu', 'hidden_layer_sizes': (50,), 'learning_rate': 'adaptive'}\n",
            "mean:  0.775  std:  0.108  for  {'activation': 'relu', 'hidden_layer_sizes': (100,), 'learning_rate': 'constant'}\n",
            "mean:  0.796  std:  0.098  for  {'activation': 'relu', 'hidden_layer_sizes': (100,), 'learning_rate': 'invscaling'}\n",
            "mean:  0.792  std:  0.072  for  {'activation': 'relu', 'hidden_layer_sizes': (100,), 'learning_rate': 'adaptive'}\n",
            "mean:  0.803  std:  0.092  for  {'activation': 'relu', 'hidden_layer_sizes': (75,), 'learning_rate': 'constant'}\n",
            "mean:  0.783  std:  0.083  for  {'activation': 'relu', 'hidden_layer_sizes': (75,), 'learning_rate': 'invscaling'}\n",
            "mean:  0.781  std:  0.101  for  {'activation': 'relu', 'hidden_layer_sizes': (75,), 'learning_rate': 'adaptive'}\n",
            "mean:  0.798  std:  0.089  for  {'activation': 'tanh', 'hidden_layer_sizes': (10,), 'learning_rate': 'constant'}\n",
            "mean:  0.8  std:  0.087  for  {'activation': 'tanh', 'hidden_layer_sizes': (10,), 'learning_rate': 'invscaling'}\n",
            "mean:  0.8  std:  0.09  for  {'activation': 'tanh', 'hidden_layer_sizes': (10,), 'learning_rate': 'adaptive'}\n",
            "mean:  0.801  std:  0.111  for  {'activation': 'tanh', 'hidden_layer_sizes': (50,), 'learning_rate': 'constant'}\n",
            "mean:  0.788  std:  0.104  for  {'activation': 'tanh', 'hidden_layer_sizes': (50,), 'learning_rate': 'invscaling'}\n",
            "mean:  0.785  std:  0.076  for  {'activation': 'tanh', 'hidden_layer_sizes': (50,), 'learning_rate': 'adaptive'}\n",
            "mean:  0.792  std:  0.11  for  {'activation': 'tanh', 'hidden_layer_sizes': (100,), 'learning_rate': 'constant'}\n",
            "mean:  0.803  std:  0.104  for  {'activation': 'tanh', 'hidden_layer_sizes': (100,), 'learning_rate': 'invscaling'}\n",
            "mean:  0.775  std:  0.103  for  {'activation': 'tanh', 'hidden_layer_sizes': (100,), 'learning_rate': 'adaptive'}\n",
            "mean:  0.798  std:  0.104  for  {'activation': 'tanh', 'hidden_layer_sizes': (75,), 'learning_rate': 'constant'}\n",
            "mean:  0.794  std:  0.094  for  {'activation': 'tanh', 'hidden_layer_sizes': (75,), 'learning_rate': 'invscaling'}\n",
            "mean:  0.802  std:  0.094  for  {'activation': 'tanh', 'hidden_layer_sizes': (75,), 'learning_rate': 'adaptive'}\n",
            "mean:  0.787  std:  0.07  for  {'activation': 'logistic', 'hidden_layer_sizes': (10,), 'learning_rate': 'constant'}\n",
            "mean:  0.79  std:  0.065  for  {'activation': 'logistic', 'hidden_layer_sizes': (10,), 'learning_rate': 'invscaling'}\n",
            "mean:  0.796  std:  0.069  for  {'activation': 'logistic', 'hidden_layer_sizes': (10,), 'learning_rate': 'adaptive'}\n",
            "mean:  0.787  std:  0.083  for  {'activation': 'logistic', 'hidden_layer_sizes': (50,), 'learning_rate': 'constant'}\n",
            "mean:  0.803  std:  0.091  for  {'activation': 'logistic', 'hidden_layer_sizes': (50,), 'learning_rate': 'invscaling'}\n",
            "mean:  0.785  std:  0.067  for  {'activation': 'logistic', 'hidden_layer_sizes': (50,), 'learning_rate': 'adaptive'}\n",
            "mean:  0.788  std:  0.079  for  {'activation': 'logistic', 'hidden_layer_sizes': (100,), 'learning_rate': 'constant'}\n",
            "mean:  0.807  std:  0.089  for  {'activation': 'logistic', 'hidden_layer_sizes': (100,), 'learning_rate': 'invscaling'}\n",
            "mean:  0.796  std:  0.088  for  {'activation': 'logistic', 'hidden_layer_sizes': (100,), 'learning_rate': 'adaptive'}\n",
            "mean:  0.798  std:  0.079  for  {'activation': 'logistic', 'hidden_layer_sizes': (75,), 'learning_rate': 'constant'}\n",
            "mean:  0.794  std:  0.078  for  {'activation': 'logistic', 'hidden_layer_sizes': (75,), 'learning_rate': 'invscaling'}\n",
            "mean:  0.8  std:  0.077  for  {'activation': 'logistic', 'hidden_layer_sizes': (75,), 'learning_rate': 'adaptive'}\n",
            "\n",
            " Final parameter decided:  {'activation': 'relu', 'hidden_layer_sizes': (10,), 'learning_rate': 'invscaling'}\n"
          ],
          "name": "stdout"
        }
      ]
    },
    {
      "cell_type": "code",
      "metadata": {
        "id": "odpDS9YhwIDZ",
        "colab_type": "code",
        "colab": {
          "base_uri": "https://localhost:8080/",
          "height": 153
        },
        "outputId": "b4f35f9f-6aba-4b2f-bba6-d2b307e291a7"
      },
      "source": [
        "cv.best_estimator_"
      ],
      "execution_count": 7,
      "outputs": [
        {
          "output_type": "execute_result",
          "data": {
            "text/plain": [
              "MLPClassifier(activation='relu', alpha=0.0001, batch_size='auto', beta_1=0.9,\n",
              "              beta_2=0.999, early_stopping=False, epsilon=1e-08,\n",
              "              hidden_layer_sizes=(10,), learning_rate='invscaling',\n",
              "              learning_rate_init=0.001, max_fun=15000, max_iter=1000,\n",
              "              momentum=0.9, n_iter_no_change=10, nesterovs_momentum=True,\n",
              "              power_t=0.5, random_state=None, shuffle=True, solver='adam',\n",
              "              tol=0.0001, validation_fraction=0.1, verbose=False,\n",
              "              warm_start=False)"
            ]
          },
          "metadata": {
            "tags": []
          },
          "execution_count": 7
        }
      ]
    },
    {
      "cell_type": "code",
      "metadata": {
        "id": "lz0CnYZ2yW8E",
        "colab_type": "code",
        "colab": {
          "base_uri": "https://localhost:8080/",
          "height": 34
        },
        "outputId": "13f2cc10-6d35-4ee8-ad99-91acbb64c30f"
      },
      "source": [
        "joblib.dump(cv.best_estimator_, '././MLP_model.pkl')"
      ],
      "execution_count": 8,
      "outputs": [
        {
          "output_type": "execute_result",
          "data": {
            "text/plain": [
              "['././MLP_model.pkl']"
            ]
          },
          "metadata": {
            "tags": []
          },
          "execution_count": 8
        }
      ]
    }
  ]
}