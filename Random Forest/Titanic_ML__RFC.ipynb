{
  "nbformat": 4,
  "nbformat_minor": 0,
  "metadata": {
    "colab": {
      "name": "Titanic_ML__RFC.ipynb",
      "provenance": [],
      "collapsed_sections": []
    },
    "kernelspec": {
      "name": "python3",
      "display_name": "Python 3"
    },
    "accelerator": "TPU"
  },
  "cells": [
    {
      "cell_type": "code",
      "metadata": {
        "id": "2KgXOQiM0U_V",
        "colab_type": "code",
        "colab": {}
      },
      "source": [
        "from sklearn.ensemble import RandomForestClassifier\n",
        "from sklearn.model_selection import GridSearchCV\n",
        "import joblib\n",
        "import pandas as pd\n",
        "\n",
        "import warnings\n",
        "\n",
        "warnings.filterwarnings('ignore',category = FutureWarning)\n",
        "warnings.filterwarnings('ignore', category = DeprecationWarning)\n",
        "\n",
        "feature = pd.read_csv('././Titanic_x_train.csv')\n",
        "label= pd.read_csv('././Titanic_y_train.csv',header=None)"
      ],
      "execution_count": 1,
      "outputs": []
    },
    {
      "cell_type": "code",
      "metadata": {
        "id": "ukiw9_WA0N7T",
        "colab_type": "code",
        "colab": {}
      },
      "source": [
        "def ML_results(results):\n",
        "  mean = results.cv_results_['mean_test_score']\n",
        "  std = results.cv_results_['std_test_score']\n",
        "  for mean, std, params in zip(mean, std, results.cv_results_['params']):\n",
        "    print('mean: ',round(mean,3),' std: ',round(std * 2,3),' for ',format(params))\n",
        "  print('\\n Final parameter decided: ',format(results.best_params_))"
      ],
      "execution_count": 2,
      "outputs": []
    },
    {
      "cell_type": "code",
      "metadata": {
        "id": "Gw-njZeCK0ne",
        "colab_type": "code",
        "colab": {
          "base_uri": "https://localhost:8080/",
          "height": 459
        },
        "outputId": "f5b5dbdb-af3e-4bb0-cde3-faf6a0bb442c"
      },
      "source": [
        "rfc = RandomForestClassifier()\n",
        "parameter = {\n",
        "    'n_estimators' : [5,50,100,250],\n",
        "    'max_depth' : [2,4,8,16,32, None]\n",
        "}\n",
        "cv = GridSearchCV(rfc, parameter, cv = 5)\n",
        "cv.fit(feature, label.values.ravel())\n",
        "ML_results(cv)"
      ],
      "execution_count": 4,
      "outputs": [
        {
          "output_type": "stream",
          "text": [
            "mean:  0.764  std:  0.061  for  {'max_depth': 2, 'n_estimators': 5}\n",
            "mean:  0.788  std:  0.092  for  {'max_depth': 2, 'n_estimators': 50}\n",
            "mean:  0.792  std:  0.063  for  {'max_depth': 2, 'n_estimators': 100}\n",
            "mean:  0.785  std:  0.067  for  {'max_depth': 2, 'n_estimators': 250}\n",
            "mean:  0.779  std:  0.054  for  {'max_depth': 4, 'n_estimators': 5}\n",
            "mean:  0.8  std:  0.079  for  {'max_depth': 4, 'n_estimators': 50}\n",
            "mean:  0.811  std:  0.103  for  {'max_depth': 4, 'n_estimators': 100}\n",
            "mean:  0.8  std:  0.117  for  {'max_depth': 4, 'n_estimators': 250}\n",
            "mean:  0.805  std:  0.075  for  {'max_depth': 8, 'n_estimators': 5}\n",
            "mean:  0.803  std:  0.096  for  {'max_depth': 8, 'n_estimators': 50}\n",
            "mean:  0.815  std:  0.072  for  {'max_depth': 8, 'n_estimators': 100}\n",
            "mean:  0.811  std:  0.083  for  {'max_depth': 8, 'n_estimators': 250}\n",
            "mean:  0.796  std:  0.09  for  {'max_depth': 16, 'n_estimators': 5}\n",
            "mean:  0.807  std:  0.069  for  {'max_depth': 16, 'n_estimators': 50}\n",
            "mean:  0.8  std:  0.041  for  {'max_depth': 16, 'n_estimators': 100}\n",
            "mean:  0.798  std:  0.045  for  {'max_depth': 16, 'n_estimators': 250}\n",
            "mean:  0.792  std:  0.048  for  {'max_depth': 32, 'n_estimators': 5}\n",
            "mean:  0.792  std:  0.042  for  {'max_depth': 32, 'n_estimators': 50}\n",
            "mean:  0.803  std:  0.054  for  {'max_depth': 32, 'n_estimators': 100}\n",
            "mean:  0.803  std:  0.061  for  {'max_depth': 32, 'n_estimators': 250}\n",
            "mean:  0.798  std:  0.078  for  {'max_depth': None, 'n_estimators': 5}\n",
            "mean:  0.809  std:  0.06  for  {'max_depth': None, 'n_estimators': 50}\n",
            "mean:  0.8  std:  0.072  for  {'max_depth': None, 'n_estimators': 100}\n",
            "mean:  0.796  std:  0.05  for  {'max_depth': None, 'n_estimators': 250}\n",
            "\n",
            " Final parameter decided:  {'max_depth': 8, 'n_estimators': 100}\n"
          ],
          "name": "stdout"
        }
      ]
    },
    {
      "cell_type": "code",
      "metadata": {
        "id": "tutr2io2EYtt",
        "colab_type": "code",
        "colab": {
          "base_uri": "https://localhost:8080/",
          "height": 34
        },
        "outputId": "16f7cdfb-6e18-4cdf-ae1f-c93ddc8ca170"
      },
      "source": [
        "joblib.dump(cv.best_estimator_, '././rfc_model.pkl')"
      ],
      "execution_count": 5,
      "outputs": [
        {
          "output_type": "execute_result",
          "data": {
            "text/plain": [
              "['././rfc_model.pkl']"
            ]
          },
          "metadata": {
            "tags": []
          },
          "execution_count": 5
        }
      ]
    }
  ]
}